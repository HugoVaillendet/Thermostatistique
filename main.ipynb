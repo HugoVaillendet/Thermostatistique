{
 "cells": [
  {
   "cell_type": "markdown",
   "id": "6babc98ebd577852",
   "metadata": {},
   "source": [
    "On cherche dans ce projet à modéliser le comportement d'un gaz dans une boîte d'un point de vue thermostatistique, c'est à dire N particules de masse m avec une vitesse initiale identique mais ayant une direction aléatoire.\n",
    "Ces particules collisionnent de manière élastique entre elles et avec les parois du mur.\n",
    "\n",
    "On initialise donc d'abbord un réseau de particules distribués de manière égale, puis on associe à chaque particule un vitesse v de direction aléatoire dont les composantes (v_x,v_y) sont calculées à partir d'un angle $\\theta$ aléatoire."
   ]
  },
  {
   "cell_type": "code",
   "execution_count": 4,
   "id": "24abc282aad42b1d",
   "metadata": {
    "ExecuteTime": {
     "end_time": "2025-03-29T15:08:43.513107Z",
     "start_time": "2025-03-29T15:08:43.510279Z"
    }
   },
   "outputs": [],
   "source": [
    "import numpy as np\n",
    "import matplotlib.pyplot as plt\n",
    "from matplotlib.animation import FuncAnimation\n",
    "from IPython.display import HTML\n",
    "\n",
    "plt.rcParams['animation.ffmpeg_path'] = 'C:/ffmpeg/bin/ffmpeg' #Nécessaire au rendu video. L'emplacement de ffmpeg est propre à chaque machine /!\\"
   ]
  },
  {
   "cell_type": "code",
   "execution_count": 5,
   "id": "47d52a4f8f9eba01",
   "metadata": {
    "ExecuteTime": {
     "end_time": "2025-03-29T15:08:43.523758Z",
     "start_time": "2025-03-29T15:08:43.520987Z"
    }
   },
   "outputs": [],
   "source": [
    "#On définit les paramètres de la simulation\n",
    "\n",
    "N=100 #Nombre de particules\n",
    "mass=1.0e-21 #Masse des particules\n",
    "radius=0.1 #rayon des particules\n",
    "L=20 #Longueur de la boite\n",
    "v_0=2 #Norme des vitesses initiales\n",
    "duration=10 #Durée de la simulation\n",
    "dt=0.01 #Intervale de temps\n",
    "steps=int(duration/dt) #Nombre de pas\n",
    "kB=1.380649e-23 #Constante de Boltzmann"
   ]
  },
  {
   "cell_type": "markdown",
   "id": "b8f4e2d4",
   "metadata": {},
   "source": [
    "## Collisions des particules\n",
    "\n",
    "On cherche a implémenter les collisions des particules avec les murs et entre elles.\n",
    "\n",
    "#### Les collisions avec les murs :\n",
    "Quand une particule entre en collision elastique avec un mur elle, sa composante normale au mur est inversée et sa composante orthogonale reste inchangée.\n",
    "\n",
    "Par exemple pour dans un repère (x, y), pour un mur vertical le long de l'axe y, la composante normale est $v_x$ et la composante orthogonale est $v_y$.\n",
    "\n",
    "Le code devra tester à chaque instant t si la distance $d$ entre le centre de chaque particules un mur est telle que :\n",
    "\n",
    "$$d<r$$\n",
    "\n",
    "#### Les collisions des particules entre elles :\n",
    "\n",
    "Pour calculer les collisions des particules entre elles, on cherche teste à chaque instant t si les particules se chevauchent.\n",
    "\n",
    "Si elle se chevauchent, on applique alors :\n",
    "\n",
    "$$\\vec{v_1}^\\prime=\\vec{v_1}-\\frac{2m_2}{m_1+m_2}\\frac{(\\vec{v_1}-\\vec{v_2})\\cdot(\\vec{r_1}-\\vec{r_2})}{\\|\\vec{r_1}-\\vec{r_2}\\|^2}(\\vec{r_1}-\\vec{r_2})$$\n",
    "$$\\vec{v_2}^\\prime=\\vec{v_2}-\\frac{2m_1}{m_1+m_2}\\frac{(\\vec{v_2}-\\vec{v_1})\\cdot(\\vec{r_2}-\\vec{r_1})}{\\|\\vec{r_2}-\\vec{r_1}\\|^2}(\\vec{r_2}-\\vec{r_1})$$\n",
    "\n",
    "##### Demonstration :\n",
    "\n",
    "Lors de la collision on définit le vecteur normal $\\vec{n}$ comme le vecteur le long de la ligne reliant les centres des particules avec :\n",
    "$$\\vec{n}=\\frac{\\vec{r_1}-\\vec{r_2}}{\\|\\vec{r_1}-\\vec{r_2}\\|}$$\n",
    "\n",
    "$\\vec{r_1}$ et $\\vec{r_2}$ les vecteur positions des deux particules et le vecteur tangentiel $\\vec{t}$ le vecteur orthogonal à $\\vec{n}$\n",
    "\n",
    "Soit les vitesses des deux particules avant collisions :\n",
    "$$\\vec{v_1}\\;\\;\\;\\;\\vec{v_2}$$\n",
    "Soit les vitesses des deux particules avant collisions :\n",
    "$$\\vec{v_1}^\\prime\\;\\;\\;\\;\\vec{v_2}^\\prime$$\n",
    "\n",
    "Soit leurs composantes normales :\n",
    "\n",
    "$$v_{1n}=\\vec{v_1}\\cdot\\vec{n}$$\n",
    "$$v_{1n}\\prime=\\vec{v_1}\\cdot\\vec{n}$$\n",
    "$$v_{2n}=\\vec{v_1}\\cdot\\vec{n}$$\n",
    "$$v_{2n}\\prime=\\vec{v_1}\\cdot\\vec{n}$$\n",
    "\n",
    "Soit leurs composantes tangentielles :\n",
    "\n",
    "$$v_{1t}=\\vec{v_1}\\cdot\\vec{t}$$\n",
    "$$v_{1t}\\prime=\\vec{v_1}\\cdot\\vec{t}$$\n",
    "$$v_{2t}=\\vec{v_1}\\cdot\\vec{t}$$\n",
    "$$v_{2t}\\prime=\\vec{v_1}\\cdot\\vec{t}$$\n",
    "\n",
    "Après collision comme les forces de collision s'appliquent le long du vecteur $\\vec{n}$, les composantes tangentielles du mouvement restent inchangées par la collision.\n",
    "\n",
    "Se problème se réduit donc à la résolution d'une collision à 1D le long de l'axe $O_1$ $O_2$.\n",
    "\n",
    "##### En 1D :\n",
    "\n",
    "On formule la conservation de la quantité de mouvment et l'énergie cinétique :\n",
    "\n",
    "$$\\vec{p_1}+\\vec{p_2}=\\vec{p_1}^\\prime+\\vec{p_2}^\\prime\\;\\;(1)$$\n",
    "$$E_{C1}+E_{C2}=E_{C1}^\\prime+E_{C2}^\\prime\\;\\;(2)$$\n",
    "\n",
    "Soit :\n",
    "\n",
    "$$m_1\\vec{v_1}+m_2\\vec{v_2}=m_1\\vec{v_1}^\\prime+m_2\\vec{v_2}^\\prime$$\n",
    "$$\\frac{1}{2}m_1v_1^2+\\frac{1}{2}m_2v_2^2=\\frac{1}{2}m_1v_1^2\\prime+\\frac{1}{2}m_2v_2^2\\prime$$\n",
    "\n",
    "On simplifie et regroupe les termes \n",
    "\n",
    "$$m_1(v_1-v_1\\prime)=m_2(v_2\\prime-v_2)$$\n",
    "$$m_1(v_1^2-v_1^2\\prime)=m_2(v_2^2\\prime-v_2^2)$$\n",
    "\n",
    "Si on divise a conservation d'énergie cinétique par celle de la quantité de mouvment :\n",
    "\n",
    "$$\\frac{(v_1-v_1\\prime)(v_1+v_1\\prime)}{(v_1-v_1\\prime)}=\\frac{(v_2\\prime-v_2)(v_2\\prime+v_2)}{(v_2\\prime-v_2)}$$\n",
    "\n",
    "Et ainsi on a la relation :\n",
    "$$v_1-v_2=-(v_1\\prime-v_2\\prime)\\;\\;(3)$$\n",
    "\n",
    "On a utilise la relation $(3)$ dans $(1)$ :\n",
    "\n",
    "$$v_1=v_2+v_2\\prime-v_1$$\n",
    "\n",
    "$$m_1v_1+m_2v_2=m_1(v_2+v_2\\prime-v_1)+m_2v_2\\prime$$\n",
    "$$v_2\\prime(m_1+m_2)=m_1v_1+m_2v_2-m_1(v_2-v_1)$$\n",
    "$$v_2\\prime(m_1+m_2)=(m_2-m-1)v_2+2m_1v_1$$\n",
    "\n",
    "Et donc :\n",
    "\n",
    "$$\\boxed{v_2\\prime=\\frac{(m_2-m_1)v_2+2m_1v_1}{(m_1+m_2)}}$$\n",
    "et de manière analogue :\n",
    "$$\\boxed{v_1\\prime=\\frac{(m_1-m_2)v_1+2m_1v_2}{(m_1+m_2)}}$$\n",
    "\n",
    "##### On applique les solutions normales au problème en 2D :\n",
    "\n",
    "Les vitesse après collisions s'exprimment :\n",
    "\n",
    "$$\\vec{v_1}\\prime=\\vec{v_{1n}}\\prime+\\vec{v_{1t}}$$\n",
    "$$\\vec{v_2}\\prime=\\vec{v_{2n}}\\prime+\\vec{v_{2t}}$$\n",
    "\n",
    "Et on sait que :\n",
    "$$\\vec{v_n}=(\\vec{v}\\cdot\\vec{n})\\vec{n}$$\n",
    "$$\\vec{v_t}=\\vec{v}-(\\vec{v}\\cdot\\vec{n})\\vec{n}$$\n",
    "\n",
    "Donc :\n",
    "\n",
    "$$\\vec{v_{1n}}\\prime=\\left[\\frac{(m_1-m_2)(v_1\\cdot\\vec{n})+2m_2(\\vec{v_2}\\cdot\\vec{n})}{(m_1+m_2)}\\right]\\vec{n}$$\n",
    "$$\\vec{v_{2n}}\\prime=\\left[\\frac{(m_2-m_1)(v_2\\cdot\\vec{n})+2m_1(\\vec{v_1}\\cdot\\vec{n})}{(m_1+m_2)}\\right]\\vec{n}$$\n",
    "\n",
    "Pour $\\vec{v_1}$ :\n",
    "\n",
    "$$\\vec{v_1}\\prime=\\vec{v_{1n}}\\prime+\\vec{v_{1t}}$$\n",
    "\n",
    "$$\\vec{v_{1n}}\\prime=\\left[\\frac{(m_1-m_2)(v_1\\cdot\\vec{n})+2m_2(\\vec{v_2}\\cdot\\vec{n})}{(m_1+m_2)}\\right]\\vec{n}+\\vec{v_1}-(\\vec{v_1}\\cdot\\vec{n})\\vec{n}$$\n",
    "\n",
    "$$\\vec{v_{1n}}\\prime=\\vec{v_1}+\\left[\\frac{(m_1-m_2)(v_1\\cdot\\vec{n})}{(m_1+m_2)}+\\frac{2m_2(\\vec{v_2}\\cdot\\vec{n})}{m_1+m_2}-(\\vec{v_1}\\cdot\\vec{n})\\right]\\vec{n}$$\n",
    "\n",
    "$$\\vec{v_{1n}}\\prime=\\vec{v_1}+\\left[\\frac{(-2m_2)}{(m_1+m_2)}(v_1\\cdot\\vec{n})+\\frac{2m_2}{m_1+m_2}(\\vec{v_2}\\cdot\\vec{n})\\right]\\vec{n}$$\n",
    "On obtient donc :\n",
    "\n",
    "$$\\boxed{\\vec{v_1}^\\prime=\\vec{v_1}-\\frac{2m_2}{m_1+m_2}\\frac{(\\vec{v_1}-\\vec{v_2})\\cdot(\\vec{r_1}-\\vec{r_2})}{\\|\\vec{r_1}-\\vec{r_2}\\|^2}(\\vec{r_1}-\\vec{r_2})}$$\n",
    "Et analoguement :\n",
    "\n",
    "$$\\boxed{\\vec{v_2}^\\prime=\\vec{v_2}-\\frac{2m_1}{m_1+m_2}\\frac{(\\vec{v_2}-\\vec{v_1})\\cdot(\\vec{r_2}-\\vec{r_1})}{\\|\\vec{r_2}-\\vec{r_1}\\|^2}(\\vec{r_2}-\\vec{r_1})}$$"
   ]
  },
  {
   "cell_type": "code",
   "execution_count": null,
   "id": "814e5d6473b4b92d",
   "metadata": {
    "ExecuteTime": {
     "end_time": "2025-03-29T15:08:43.544849Z",
     "start_time": "2025-03-29T15:08:43.536283Z"
    }
   },
   "outputs": [],
   "source": [
    "#La fonction meshCreation crée un réseau régulier de particules dans la boit de longueur L.\n",
    "def meshCreation(N, L, radius):\n",
    "    grid_points=int(np.ceil(np.sqrt(N))) #On crée les paramètres de la grille. Prendre l'arrondi de la racine de N assure que (N+1)>=grid^2>=N.\n",
    "    space=L/grid_points #On calcule l'espacement de chaque particules.\n",
    "    x=np.linspace(radius+space/2, L-radius - space/2, grid_points) #On crée une rangée de particules\n",
    "\n",
    "    X_mat,Y_mat=np.meshgrid(x,x, indexing='ij') #On crée à l'aide de la fonction meshgrid de NumPy une matrice des positon pour chaque coordonnées (x, y).\n",
    "    x, y = X_mat.ravel(), Y_mat.ravel() #On convertit les matrices en array NumPy 1D.\n",
    "    position=np.stack((x, y)).T #On stack et transpose les deux array de coordonnées de manière à obtenir un array contenant la liste des coordonnées x et y pour un maillage grid^2.\n",
    "\n",
    "    return position[:N] #On retourne un slice jusque à N de l'array position pour n'avoir que N particules (grid^2>N).\n",
    "\n",
    "#La fonction velocityInit crée un tableau des composantes x et y des vitesses initiales des particules.\n",
    "def velocityInit(N):\n",
    "    theta=np.random.uniform(0, 2*np.pi, size=N) #On crée un array 1D de taille N contenant des valeur aléatoires de 0 à 2pi.\n",
    "    v_x,v_y=v_0*np.cos(theta), v_0*np.sin(theta) #On calcule les composante (v_x, v_y) des vecteurs v_n d'angles relatif à la particule aléatoires et de norme fixe v_0.\n",
    "    velocity=np.stack((v_x,v_y), axis=1) #On stack ces valeurs dans un seul array 2D pour chaque composantes.\n",
    "    return velocity\n",
    "\n",
    "def collisions(position, velocity, radius, L, dt, N):\n",
    "    position_next = position + velocity * dt #On calcule l'array position pour (t+dt).\n",
    "\n",
    "    #Les arrays velocity position et position_next étant tous trois des arrays (N,2) on peux utiliser le boolean masking ici.\n",
    "\n",
    "    velocity[position_next[:, 0] < radius, 0] *= -1\n",
    "    \"\"\"\n",
    "    Cette ligne de code ci dessus applique la collision élastique des particules (voir section plus sur les collisions) au mur de gauche\n",
    "    Les éléments (N,0) de velocity pour lesquels position_next[:, 0] (c'est à dire l'ensemble des coordonnées x de position_next)\n",
    "    sont inférieur à 1 radius se voient appliquer l'opération *(-1).\n",
    "    C'est équivalent à une boucle for qui parcours les éléments (N,0) de velocitiy (c'est à dire pour ce cas les éléments orthogonaux) et qui applique la\n",
    "    condition if (positon_next[:, 0] < radius).\n",
    "    Néanmoins la vectorisation avec NumPy permet des gains de performance.\n",
    "    \"\"\"\n",
    "    velocity[position_next[:, 0] > L - radius, 0] *= -1 #Code identique pour le mur de droite\n",
    "    velocity[position_next[:, 1] < radius, 1] *= -1 #Code identique pour le mur du bas\n",
    "    velocity[position_next[:, 1] > L - radius, 1] *= -1 #Code identique pour le mur du haut\n",
    "\n",
    "    for i in range(N):\n",
    "        for j in range(i + 1, N):\n",
    "            \"\"\"\n",
    "            On cherche à calculer quelles particules pourraient entrer en collisions entre elles à un instant t.\n",
    "            Pour se faire on parcours d'abord les N particules avec un boucle for.\n",
    "            Pour chacune des particules on teste les N-(i+1) particules.\n",
    "            En effet pas besoin de tester les N-1 particules. Si on prend la première particule P1 on teste N-1 particules (P1<->P2; P1<->P3; ...;P1<->P(N-1)).\n",
    "            Quand on teste la deuxième, inutile de tester la paire P1 et P2 car ce calcul a déjà eu lieu lors du test pour P1.\n",
    "            \"\"\"\n",
    "            if np.linalg.norm(position_next[i] - position_next[j]) < 2 * radius: #On teste si la distance entre les deux particules considérée est < 2 radius.\n",
    "\n",
    "                # On applique les formules détailées dans la section collision (ici les masses sont identiques donc s'annulent)\n",
    "\n",
    "                delta_velocity = velocity[i] - velocity[j]\n",
    "                delta_r = position[i] - position[j]\n",
    "\n",
    "                velocity[i] -= delta_r.dot(delta_velocity) / (delta_r.dot(delta_r)) * delta_r\n",
    "                velocity[j] += delta_r.dot(delta_velocity) / (delta_r.dot(delta_r)) * delta_r\n",
    "\n",
    "def step(position, velocity, radius, L, dt, N):\n",
    "    collisions(position, velocity, radius, L, dt, N) #On calcule les collision pour un step.\n",
    "    position += velocity * dt #On met à jour l'array position.\n",
    "    #Redondance\n",
    "\n",
    "def simulation(position, velocity, radius, L, dt, N, steps):\n",
    "    positions = np.zeros((steps, N, 2)) #On crée un array positions qui stocke l'entièreté des positons pour chaque pas de temps\n",
    "    velocities = np.zeros((steps, N))#On crée un array velocities qui stocke l'entièreté des vitesses pour chaque pas de temps.\n",
    "\n",
    "    for i in range(steps): #On parcours chaques step.\n",
    "        step(position, velocity, radius, L, dt, N) #On applique la fonction step qui calcule nos postions et vitesses\n",
    "        positions[i, :, :] = position #On place l'entièreté de l'array position dans l'array 3D positions.\n",
    "        velocities[i, :] = np.linalg.norm(velocity, axis=1) # On place la norme des vitesses dans l'array 2D velocities.\n",
    "\n",
    "    return positions, velocities\n",
    "\n",
    "def update(frame):\n",
    "    axis_1.clear()\n",
    "    for i in range(N):\n",
    "        x, y = positions[frame,i, 0], positions[frame, i, 1]\n",
    "        circle = plt.Circle((x, y), radius, fill=True)\n",
    "        axis_1.add_artist(circle)\n",
    "\n",
    "    axis_1.set_xlabel('$X$', fontsize=15)\n",
    "    axis_1.set_ylabel('$Y$', fontsize=15)\n",
    "    axis_1.set_title(\"Animation d'un gaz parfait\", fontsize=15)\n",
    "    axis_1.set_xlim(0, L)\n",
    "    axis_1.set_ylim(0, L)\n",
    "    axis_1.set_aspect('equal')\n",
    "    axis_1.set_xticks([])\n",
    "    axis_1.set_yticks([])\n",
    "    plt.tight_layout()\n",
    "\n",
    "def temperature(v_0, mass):\n",
    "    E_c_avrg=0.5*mass*(v_0**2)\n",
    "    T=E_c_avrg/kB\n",
    "    return T"
   ]
  },
  {
   "cell_type": "code",
   "execution_count": 7,
   "id": "f088333b623e4612",
   "metadata": {
    "ExecuteTime": {
     "end_time": "2025-03-29T15:08:56.255168Z",
     "start_time": "2025-03-29T15:08:43.556641Z"
    }
   },
   "outputs": [
    {
     "data": {
      "image/png": "[encoded data removed]",
      "text/plain": [
       "<Figure size 640x480 with 1 Axes>"
      ]
     },
     "metadata": {},
     "output_type": "display_data"
    }
   ],
   "source": [
    "particles_position=meshCreation(N, L, radius) # On initialise le réseau de particules.\n",
    "\n",
    "particle_velocity=velocityInit(N) # On initialise les vitesses des particules du réseau.\n",
    "\n",
    "# On affiche le réseau de particules :\n",
    "fig=plt.figure()\n",
    "axis_1=fig.add_subplot(111)\n",
    "for(x,y) in particles_position:\n",
    "    axis_1.add_artist(plt.Circle((x,y), radius, color='r'))\n",
    "axis_1.set_xlim(0, L)\n",
    "axis_1.set_ylim(0, L)\n",
    "axis_1.set_aspect('equal')\n",
    "plt.show()\n",
    "\n",
    "# On simule pour chaque pas de temps les collisions :\n",
    "positions, velocities = simulation(particles_position, particle_velocity, radius, L, dt, N, steps)\n"
   ]
  },
  {
   "cell_type": "code",
   "execution_count": null,
   "id": "dd7f79bea218d6be",
   "metadata": {
    "ExecuteTime": {
     "end_time": "2025-03-29T15:08:56.255146100Z",
     "start_time": "2025-03-29T14:19:05.774611Z"
    }
   },
   "outputs": [],
   "source": [
    "fig,ax1= plt.subplots(1, figsize = (12,6))\n",
    "\n",
    "interval = duration*1e3/steps\n",
    "animation = FuncAnimation(fig, update, frames=steps, interval=interval)\n",
    "HTML(animation.to_html5_video())"
   ]
  },
  {
   "cell_type": "code",
   "execution_count": null,
   "id": "527758d2",
   "metadata": {},
   "outputs": [
    {
     "name": "stdout",
     "output_type": "stream",
     "text": [
      "Temperature 144.86 K\n"
     ]
    }
   ],
   "source": [
    "T=temperature(v_0, mass)\n",
    "print(\"Temperature\", np.round(T,2), \"K\")"
   ]
  }
 ],
 "metadata": {
  "kernelspec": {
   "display_name": "Python 3",
   "language": "python",
   "name": "python3"
  },
  "language_info": {
   "codemirror_mode": {
    "name": "ipython",
    "version": 3
   },
   "file_extension": ".py",
   "mimetype": "text/x-python",
   "name": "python",
   "nbconvert_exporter": "python",
   "pygments_lexer": "ipython3",
   "version": "3.12.3"
  }
 },
 "nbformat": 4,
 "nbformat_minor": 5
}
