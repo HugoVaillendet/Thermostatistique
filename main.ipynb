{
 "cells": [
  {
   "cell_type": "markdown",
   "id": "6babc98ebd577852",
   "metadata": {},
   "source": [
    "On cherche dans ce projet à modéliser le comportement d'un gaz dans une boîte d'un point de vue thermostatistique, c'est à dire N particules de masse m avec une vitesse initiale identique mais ayant une direction aléatoire.\n",
    "Ces particules collisionnent de manière élastique entre elles et avec les parois du mur.\n",
    "\n",
    "On initialise donc d'abbord un réseau de particules distribués de manière égale, puis on associe à chaque particule un vitesse v de direction aléatoire dont les composantes (v_x,v_y) sont calculées à partir d'un angle $\\theta$ aléatoire."
   ]
  },
  {
   "cell_type": "code",
   "execution_count": 3,
   "id": "24abc282aad42b1d",
   "metadata": {
    "ExecuteTime": {
     "end_time": "2025-03-29T15:08:43.513107Z",
     "start_time": "2025-03-29T15:08:43.510279Z"
    }
   },
   "outputs": [],
   "source": [
    "import numpy as np\n",
    "import matplotlib.pyplot as plt\n",
    "from matplotlib.animation import FuncAnimation\n",
    "from IPython.display import HTML\n",
    "\n",
    "plt.rcParams['animation.ffmpeg_path'] = 'C:/ffmpeg/bin/ffmpeg' #Nécessaire au rendu video. L'emplacement de ffmpeg est propre à chaque machine /!\\"
   ]
  },
  {
   "cell_type": "code",
   "execution_count": 4,
   "id": "47d52a4f8f9eba01",
   "metadata": {
    "ExecuteTime": {
     "end_time": "2025-03-29T15:08:43.523758Z",
     "start_time": "2025-03-29T15:08:43.520987Z"
    }
   },
   "outputs": [],
   "source": [
    "#On définit les paramètres de la simulation\n",
    "\n",
    "N=100 #Nombre de particules\n",
    "mass=1.0e-21 #Masse des particules\n",
    "radius=0.1 #rayon des particules\n",
    "L=20 #Longueur de la boite\n",
    "v_0=2 #Norme des vitesses initiales\n",
    "duration=10 #Durée de la simulation\n",
    "dt=0.01 #Intervale de temps\n",
    "steps=int(duration/dt) #Nombre de pas\n",
    "kB=1.380649e-23 #Constante de Boltzmann"
   ]
  },
  {
   "cell_type": "markdown",
   "id": "b8f4e2d4",
   "metadata": {},
   "source": [
    "## Collisions des particules\n",
    "\n",
    "On cherche a implémenter les collisions des particules avec les murs et entre elles.\n",
    "\n",
    "#### Les collisions avec les murs :\n",
    "Quand une particule entre en collision elastique avec un mur elle, sa composante normale au mur est inversée et sa composante orthogonale reste inchangée.\n",
    "\n",
    "Par exemple pour dans un repère (x, y), pour un mur vertical le long de l'axe y, la composante normale est $v_x$ et la composante orthogonale est $v_y$.\n",
    "\n",
    "Le code devra tester à chaque instant t si la distance $d$ entre le centre de chaque particules un mur est telle que :\n",
    "\n",
    "$$d<r$$\n",
    "\n",
    "#### Les collisions des particules entre elles :\n",
    "\n",
    "Pour calculer les collisions des particules entre elles, on cherche teste à chaque instant t si les particules se chevauchent.\n",
    "\n",
    "Si elle se chevauchent, on applique alors :\n",
    "\n",
    "$$\\vec{v_1}^\\prime=\\vec{v_1}-\\frac{2m_2}{m_1+m_2}\\frac{(\\vec{v_1}-\\vec{v_2})\\cdot(\\vec{r_1}-\\vec{r_2})}{\\|\\vec{r_1}-\\vec{r_2}\\|^2}(\\vec{r_1}-\\vec{r_2})$$\n",
    "$$\\vec{v_2}^\\prime=\\vec{v_2}-\\frac{2m_2}{m_1+m_2}\\frac{(\\vec{v_2}-\\vec{v_1})\\cdot(\\vec{r_2}-\\vec{r_1})}{\\|\\vec{r_2}-\\vec{r_1}\\|^2}(\\vec{r_2}-\\vec{r_1})$$\n",
    "\n",
    "##### Demonstration :\n",
    "\n",
    "Lors de la collision on définit le vecteur normal $\\vec{n}$ comme le vecteur le long de la ligne reliant les centres des particules avec :\n",
    "$$\\vec{n}=\\frac{\\vec{r_1}-\\vec{r_2}}{\\|\\vec{r_1}-\\vec{r_2}\\|}$$\n",
    "\n",
    "$\\vec{r_1}$ et $\\vec{r_2}$ les vecteur positions des deux particules et le vecteur tangentiel $\\vec{t}$ le vecteur orthogonal à $\\vec{n}$\n",
    "\n",
    "Soit les vitesses des deux particules avant collisions :\n",
    "$$\\vec{v_1}\\;\\;\\;\\;\\vec{v_2}$$\n",
    "Soit les vitesses des deux particules avant collisions :\n",
    "$$\\vec{v_1}^\\prime\\;\\;\\;\\;\\vec{v_2}^\\prime$$\n",
    "\n",
    "Soit leurs composantes normales :\n",
    "\n",
    "$$v_{1n}=\\vec{v_1}\\cdot\\vec{n}$$\n",
    "$$v_{1n}\\prime=\\vec{v_1}\\cdot\\vec{n}$$\n",
    "$$v_{2n}=\\vec{v_1}\\cdot\\vec{n}$$\n",
    "$$v_{2n}\\prime=\\vec{v_1}\\cdot\\vec{n}$$\n",
    "\n",
    "Soit leurs composantes tangentielles :\n",
    "\n",
    "$$v_{1t}=\\vec{v_1}\\cdot\\vec{t}$$\n",
    "$$v_{1t}\\prime=\\vec{v_1}\\cdot\\vec{t}$$\n",
    "$$v_{2t}=\\vec{v_1}\\cdot\\vec{t}$$\n",
    "$$v_{2t}\\prime=\\vec{v_1}\\cdot\\vec{t}$$\n",
    "\n",
    "Après collision comme les forces de collision s'appliquent le long du vecteur $\\vec{n}$, les composantes tangentielles du mouvement restent inchangées par la collision.\n",
    "\n",
    "Se problème se réduit donc à la résolution d'une collision à 1D le long de l'axe $O_1$ $O_2$.\n",
    "\n",
    "On formule la conservation de la quantité de mouvment et l'énergie cinétique :\n",
    "\n",
    "$$\\vec{p_1}+\\vec{p_2}=\\vec{p_1}^\\prime+\\vec{p_2}^\\prime$$\n",
    "$$E_{C1}+E_{C2}=E_{C1}^\\prime+E_{C2}^\\prime$$\n",
    "\n",
    "Soit :\n",
    "\n",
    "$$m_1\\vec{v_1}+m_1\\vec{v_2}=m_1\\vec{v_1}^\\prime+m_1\\vec{v_2}^\\prime$$\n",
    "$$\\frac{1}{2}m_1v_1^2+\\frac{1}{2}m_2v_2^2=\\frac{1}{2}m_1v_1^2\\prime+\\frac{1}{2}m_2v_2^2\\prime$$"
   ]
  },
  {
   "cell_type": "code",
   "execution_count": 7,
   "id": "814e5d6473b4b92d",
   "metadata": {
    "ExecuteTime": {
     "end_time": "2025-03-29T15:08:43.544849Z",
     "start_time": "2025-03-29T15:08:43.536283Z"
    }
   },
   "outputs": [],
   "source": [
    "#La fonction meshCreation crée un réseau régulier de particules dans la boit de longueur L.\n",
    "def meshCreation(N, L, radius):\n",
    "    grid_points=int(np.ceil(np.sqrt(N))) #On crée les paramètres de la grille. Prendre l'arrondi de la racine de N assure que (N+1)>=grid^2>=N.\n",
    "    space=L/grid_points #On calcule l'espacement de chaque particules.\n",
    "    x=np.linspace(radius+space/2, L-radius - space/2, grid_points) #On crée une rangée de particules\n",
    "\n",
    "    X_mat,Y_mat=np.meshgrid(x,x, indexing='ij') #On crée à l'aide de la fonction meshgrid de NumPy une matrice des positon pour chaque coordonnées (x, y).\n",
    "    x, y = X_mat.ravel(), Y_mat.ravel() #On convertit les matrices en array NumPy 1D.\n",
    "    position=np.stack((x, y)).T #On stack et transpose les deux array de coordonnées de manière à obtenir un array contenant la liste des coordonnées x et y pour un maillage grid^2.\n",
    "\n",
    "    return position[:N] #On retourne un slice jusque à N de l'array position pour n'avoir que N particules (grid^2>N).\n",
    "\n",
    "#La fonction velocity crée un tableau des composantes x et y des vitesses initiales des particules.\n",
    "def velocityInit(N):\n",
    "    theta=np.random.uniform(0, 2*np.pi, size=N) #On crée un array 1D de taille N contenant des valeur aléatoires de 0 à 2pi.\n",
    "    v_x,v_y=v_0*np.cos(theta), v_0*np.sin(theta) #On calcule les composante (v_x, v_y) des vecteurs v_n d'angles relatif à la particule aléatoires et de norme fixe v_0.\n",
    "    velocity=np.stack((v_x,v_y), axis=1) #On stack ces valeurs dans un seul array 2D pour chaque composantes.\n",
    "    return velocity\n",
    "\n",
    "def collisions(position, velocity, radius, L, dt, N):\n",
    "    position_next = position + velocity * dt #On calcule l'array position pour (t+dt).\n",
    "\n",
    "    #Les arrays velocity position et position_next étant tous trois des arrays (N,2) on peux utiliser le boolean masking ici.\n",
    "\n",
    "    velocity[position_next[:, 0] < radius, 0] *= -1\n",
    "    \"\"\"\n",
    "    Cette ligne de code ci dessus applique la collision élastique des particules (voir section plus sur les collisions) au mur de gauche\n",
    "    Les éléments (N,0) de velocity pour lesquels position_next[:, 0] (c'est à dire l'ensemble des coordonnées x de position_next)\n",
    "    sont inférieur à 1 radius se voient appliquer l'opération *(-1).\n",
    "    C'est équivalent à une boucle for qui parcours les éléments (N,0) de velocitiy (c'est à dire pour ce cas les éléments orthogonaux) et qui applique la\n",
    "    condition if (positon_next[:, 0] < radius).\n",
    "    Néanmoins la vectorisation avec NumPy permet des gains de performance.\n",
    "    \"\"\"\n",
    "    velocity[position_next[:, 0] > L - radius, 0] *= -1 #Code identique pour le mur de droite\n",
    "    velocity[position_next[:, 1] < radius, 1] *= -1 #Code identique pour le mur du bas\n",
    "    velocity[position_next[:, 1] > L - radius, 1] *= -1 #Code identique pour le mur du haut\n",
    "\n",
    "    for i in range(N):\n",
    "        for j in range(i + 1, N):\n",
    "            \"\"\"\n",
    "            On cherche à calculer quelles particules pourraient entrer en collisions entre elles à un instant t.\n",
    "            Pour se faire on parcours d'abord les N particules avec un boucle for.\n",
    "            Pour chacune des particules on teste les N-(i+1) particules.\n",
    "            En effet pas besoin de tester les N-1 particules. Si on prend la première particule P1 on teste N-1 particules (P1<->P2; P1<->P3; ...;P1<->P(N-1)).\n",
    "            Quand on teste la deuxième, inutile de tester la paire P1 et P2 car ce calcul a déjà eu lieu lors du test pour P1.\n",
    "            \"\"\"\n",
    "            if np.linalg.norm(position_next[i] - position_next[j]) < 2 * radius: #On teste si la distance entre les deux particules considérée est < 2 radius.\n",
    "\n",
    "                #On applique les formules détailées dans la section collision\n",
    "\n",
    "                delta_velocity = velocity[i] - velocity[j]\n",
    "                delta_r = position[i] - position[j]\n",
    "\n",
    "                velocity[i] -= delta_r.dot(delta_velocity) / (delta_r.dot(delta_r)) * delta_r\n",
    "                velocity[j] += delta_r.dot(delta_velocity) / (delta_r.dot(delta_r)) * delta_r\n",
    "\n",
    "def step(position, velocity, radius, L, dt, N):\n",
    "    collisions(position, velocity, radius, L, dt, N) #On calcule les collision pour un step.\n",
    "    position += velocity * dt #On met à jour l'array position.\n",
    "    #Redondance\n",
    "\n",
    "def simulation(position, velocity, radius, L, dt, N, steps):\n",
    "    positions = np.zeros((steps, N, 2)) #On crée un array positions qui stocke l'entièreté des positons pour chaque pas de temps\n",
    "    velocities = np.zeros((steps, N))#On crée un array velocities qui stocke l'entièreté des vitesses pour chaque pas de temps.\n",
    "\n",
    "    for i in range(steps): #On parcours chaques step.\n",
    "        step(position, velocity, radius, L, dt, N) #On applique la fonction step qui calcule nos postions et vitesses\n",
    "        positions[i, :, :] = position\n",
    "        velocities[i, :] = np.linalg.norm(velocity, axis=1)\n",
    "\n",
    "    return positions, velocities\n",
    "\n",
    "def update(frame):\n",
    "    axis_1.clear()\n",
    "    for i in range(N):\n",
    "        x, y = positions[frame,i, 0], positions[frame, i, 1]\n",
    "        circle = plt.Circle((x, y), radius, fill=True)\n",
    "        axis_1.add_artist(circle)\n",
    "\n",
    "    axis_1.set_xlabel('$X$', fontsize=15)\n",
    "    axis_1.set_ylabel('$Y$', fontsize=15)\n",
    "    axis_1.set_title(\"Animation d'un gaz parfait\", fontsize=15)\n",
    "    axis_1.set_xlim(0, L)\n",
    "    axis_1.set_ylim(0, L)\n",
    "    axis_1.set_aspect('equal')\n",
    "    axis_1.set_xticks([])\n",
    "    axis_1.set_yticks([])\n",
    "    plt.tight_layout()\n",
    "\n",
    "def temperature(v_0, mass):\n",
    "    E_c_avrg=0.5*mass*(v_0**2)\n",
    "    T=E_c_avrg/kB\n",
    "    return T"
   ]
  },
  {
   "cell_type": "code",
   "execution_count": 8,
   "id": "f088333b623e4612",
   "metadata": {
    "ExecuteTime": {
     "end_time": "2025-03-29T15:08:56.255168Z",
     "start_time": "2025-03-29T15:08:43.556641Z"
    }
   },
   "outputs": [
    {
     "ename": "NameError",
     "evalue": "name 'N' is not defined",
     "output_type": "error",
     "traceback": [
      "\u001b[0;31m---------------------------------------------------------------------------\u001b[0m",
      "\u001b[0;31mNameError\u001b[0m                                 Traceback (most recent call last)",
      "Cell \u001b[0;32mIn[8], line 1\u001b[0m\n\u001b[0;32m----> 1\u001b[0m particles_position\u001b[38;5;241m=\u001b[39mmeshCreation(\u001b[43mN\u001b[49m, L, radius)\n\u001b[1;32m      3\u001b[0m particle_velocity\u001b[38;5;241m=\u001b[39mvelocityInit(N)\n\u001b[1;32m      5\u001b[0m fig\u001b[38;5;241m=\u001b[39mplt\u001b[38;5;241m.\u001b[39mfigure()\n",
      "\u001b[0;31mNameError\u001b[0m: name 'N' is not defined"
     ]
    }
   ],
   "source": [
    "particles_position=meshCreation(N, L, radius)\n",
    "\n",
    "particle_velocity=velocityInit(N)\n",
    "\n",
    "fig=plt.figure()\n",
    "axis_1=fig.add_subplot(111)\n",
    "for(x,y) in particles_position:\n",
    "    axis_1.add_artist(plt.Circle((x,y), radius, color='r'))\n",
    "axis_1.set_xlim(0, L)\n",
    "axis_1.set_ylim(0, L)\n",
    "axis_1.set_aspect('equal')\n",
    "\n",
    "plt.show()\n",
    "\n",
    "positions, velocities = simulation(particles_position, particle_velocity, radius, L, dt, N, steps)\n"
   ]
  },
  {
   "cell_type": "code",
   "execution_count": null,
   "id": "dd7f79bea218d6be",
   "metadata": {
    "ExecuteTime": {
     "end_time": "2025-03-29T15:08:56.255146100Z",
     "start_time": "2025-03-29T14:19:05.774611Z"
    }
   },
   "outputs": [
    {
     "ename": "RuntimeError",
     "evalue": "Requested MovieWriter (ffmpeg) not available",
     "output_type": "error",
     "traceback": [
      "\u001b[0;31m---------------------------------------------------------------------------\u001b[0m",
      "\u001b[0;31mRuntimeError\u001b[0m                              Traceback (most recent call last)",
      "Cell \u001b[0;32mIn[7], line 5\u001b[0m\n\u001b[1;32m      3\u001b[0m interval \u001b[38;5;241m=\u001b[39m duration\u001b[38;5;241m*\u001b[39m\u001b[38;5;241m1e3\u001b[39m\u001b[38;5;241m/\u001b[39msteps\n\u001b[1;32m      4\u001b[0m animation \u001b[38;5;241m=\u001b[39m FuncAnimation(fig, update, frames\u001b[38;5;241m=\u001b[39msteps, interval\u001b[38;5;241m=\u001b[39minterval)\n\u001b[0;32m----> 5\u001b[0m HTML(\u001b[43manimation\u001b[49m\u001b[38;5;241;43m.\u001b[39;49m\u001b[43mto_html5_video\u001b[49m\u001b[43m(\u001b[49m\u001b[43m)\u001b[49m)\n",
      "File \u001b[0;32m/usr/lib/python3/dist-packages/matplotlib/animation.py:1263\u001b[0m, in \u001b[0;36mAnimation.to_html5_video\u001b[0;34m(self, embed_limit)\u001b[0m\n\u001b[1;32m   1260\u001b[0m path \u001b[38;5;241m=\u001b[39m Path(tmpdir, \u001b[38;5;124m\"\u001b[39m\u001b[38;5;124mtemp.m4v\u001b[39m\u001b[38;5;124m\"\u001b[39m)\n\u001b[1;32m   1261\u001b[0m \u001b[38;5;66;03m# We create a writer manually so that we can get the\u001b[39;00m\n\u001b[1;32m   1262\u001b[0m \u001b[38;5;66;03m# appropriate size for the tag\u001b[39;00m\n\u001b[0;32m-> 1263\u001b[0m Writer \u001b[38;5;241m=\u001b[39m \u001b[43mwriters\u001b[49m\u001b[43m[\u001b[49m\u001b[43mmpl\u001b[49m\u001b[38;5;241;43m.\u001b[39;49m\u001b[43mrcParams\u001b[49m\u001b[43m[\u001b[49m\u001b[38;5;124;43m'\u001b[39;49m\u001b[38;5;124;43manimation.writer\u001b[39;49m\u001b[38;5;124;43m'\u001b[39;49m\u001b[43m]\u001b[49m\u001b[43m]\u001b[49m\n\u001b[1;32m   1264\u001b[0m writer \u001b[38;5;241m=\u001b[39m Writer(codec\u001b[38;5;241m=\u001b[39m\u001b[38;5;124m'\u001b[39m\u001b[38;5;124mh264\u001b[39m\u001b[38;5;124m'\u001b[39m,\n\u001b[1;32m   1265\u001b[0m                 bitrate\u001b[38;5;241m=\u001b[39mmpl\u001b[38;5;241m.\u001b[39mrcParams[\u001b[38;5;124m'\u001b[39m\u001b[38;5;124manimation.bitrate\u001b[39m\u001b[38;5;124m'\u001b[39m],\n\u001b[1;32m   1266\u001b[0m                 fps\u001b[38;5;241m=\u001b[39m\u001b[38;5;241m1000.\u001b[39m \u001b[38;5;241m/\u001b[39m \u001b[38;5;28mself\u001b[39m\u001b[38;5;241m.\u001b[39m_interval)\n\u001b[1;32m   1267\u001b[0m \u001b[38;5;28mself\u001b[39m\u001b[38;5;241m.\u001b[39msave(\u001b[38;5;28mstr\u001b[39m(path), writer\u001b[38;5;241m=\u001b[39mwriter)\n",
      "File \u001b[0;32m/usr/lib/python3/dist-packages/matplotlib/animation.py:148\u001b[0m, in \u001b[0;36mMovieWriterRegistry.__getitem__\u001b[0;34m(self, name)\u001b[0m\n\u001b[1;32m    146\u001b[0m \u001b[38;5;28;01mif\u001b[39;00m \u001b[38;5;28mself\u001b[39m\u001b[38;5;241m.\u001b[39mis_available(name):\n\u001b[1;32m    147\u001b[0m     \u001b[38;5;28;01mreturn\u001b[39;00m \u001b[38;5;28mself\u001b[39m\u001b[38;5;241m.\u001b[39m_registered[name]\n\u001b[0;32m--> 148\u001b[0m \u001b[38;5;28;01mraise\u001b[39;00m \u001b[38;5;167;01mRuntimeError\u001b[39;00m(\u001b[38;5;124mf\u001b[39m\u001b[38;5;124m\"\u001b[39m\u001b[38;5;124mRequested MovieWriter (\u001b[39m\u001b[38;5;132;01m{\u001b[39;00mname\u001b[38;5;132;01m}\u001b[39;00m\u001b[38;5;124m) not available\u001b[39m\u001b[38;5;124m\"\u001b[39m)\n",
      "\u001b[0;31mRuntimeError\u001b[0m: Requested MovieWriter (ffmpeg) not available"
     ]
    },
    {
     "data": {
      "image/png": "[encoded data removed]",
      "text/plain": [
       "<Figure size 1200x600 with 1 Axes>"
      ]
     },
     "metadata": {},
     "output_type": "display_data"
    }
   ],
   "source": [
    "fig,ax1= plt.subplots(1, figsize = (12,6))\n",
    "\n",
    "interval = duration*1e3/steps\n",
    "animation = FuncAnimation(fig, update, frames=steps, interval=interval)\n",
    "HTML(animation.to_html5_video())"
   ]
  },
  {
   "cell_type": "code",
   "execution_count": null,
   "id": "527758d2",
   "metadata": {},
   "outputs": [
    {
     "name": "stdout",
     "output_type": "stream",
     "text": [
      "Temperature 144.86 K\n"
     ]
    }
   ],
   "source": [
    "T=temperature(v_0, mass)\n",
    "print(\"Temperature\", np.round(T,2), \"K\")"
   ]
  },
  {
   "cell_type": "code",
   "execution_count": null,
   "id": "dc802fa2",
   "metadata": {},
   "outputs": [
    {
     "data": {
      "text/plain": [
       "array([[[ 1.09413469,  1.11912062],\n",
       "        [ 1.11884242,  3.08448324],\n",
       "        [ 1.1006744 ,  5.07554418],\n",
       "        ...,\n",
       "        [18.88282979, 14.95470036],\n",
       "        [18.90133057, 16.94217791],\n",
       "        [18.88875662, 18.91654044]],\n",
       "\n",
       "       [[ 1.08826937,  1.13824124],\n",
       "        [ 1.13768484,  3.09118871],\n",
       "        [ 1.10134879,  5.09553281],\n",
       "        ...,\n",
       "        [18.86565957, 14.96495627],\n",
       "        [18.90266115, 16.9621336 ],\n",
       "        [18.87751323, 18.93308089]],\n",
       "\n",
       "       [[ 1.08240406,  1.15736186],\n",
       "        [ 1.15652725,  3.09789418],\n",
       "        [ 1.10202319,  5.11552144],\n",
       "        ...,\n",
       "        [18.84848936, 14.97521218],\n",
       "        [18.90399172, 16.98208929],\n",
       "        [18.86626985, 18.94962133]],\n",
       "\n",
       "       ...,\n",
       "\n",
       "       [[ 7.98220434, 18.3409001 ],\n",
       "        [ 7.26284604,  3.58950976],\n",
       "        [ 2.84818344, 18.8832642 ],\n",
       "        ...,\n",
       "        [ 1.75566673, 16.09190389],\n",
       "        [19.79255851, 18.61525998],\n",
       "        [17.47562539, 15.73981748]],\n",
       "\n",
       "       [[ 8.01079768, 18.34617502],\n",
       "        [ 7.26211832,  3.59843947],\n",
       "        [ 2.85376714, 18.88205747],\n",
       "        ...,\n",
       "        [ 1.73960114, 16.09324869],\n",
       "        [19.78787418, 18.62875788],\n",
       "        [17.48936791, 15.72325415]],\n",
       "\n",
       "       [[ 8.03939102, 18.35144994],\n",
       "        [ 7.26139059,  3.60736918],\n",
       "        [ 2.85935083, 18.88085075],\n",
       "        ...,\n",
       "        [ 1.72353556, 16.09459349],\n",
       "        [19.78318985, 18.64225579],\n",
       "        [17.50311042, 15.70669082]]])"
      ]
     },
     "execution_count": 6,
     "metadata": {},
     "output_type": "execute_result"
    }
   ],
   "source": [
    "positions"
   ]
  },
  {
   "cell_type": "code",
   "execution_count": null,
   "id": "91ebac21",
   "metadata": {},
   "outputs": [],
   "source": []
  }
 ],
 "metadata": {
  "kernelspec": {
   "display_name": "Python 3",
   "language": "python",
   "name": "python3"
  },
  "language_info": {
   "codemirror_mode": {
    "name": "ipython",
    "version": 3
   },
   "file_extension": ".py",
   "mimetype": "text/x-python",
   "name": "python",
   "nbconvert_exporter": "python",
   "pygments_lexer": "ipython3",
   "version": "3.12.3"
  }
 },
 "nbformat": 4,
 "nbformat_minor": 5
}
