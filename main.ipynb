{
 "cells": [
  {
   "cell_type": "code",
   "execution_count": null,
   "id": "initial_id",
   "metadata": {
    "ExecuteTime": {
     "end_time": "2025-03-27T13:32:26.113492Z",
     "start_time": "2025-03-27T13:32:26.111693Z"
    }
   },
   "outputs": [],
   "source": []
  },
  {
   "cell_type": "code",
   "execution_count": 1,
   "id": "24abc282aad42b1d",
   "metadata": {
    "ExecuteTime": {
     "end_time": "2025-03-27T13:32:26.121615Z",
     "start_time": "2025-03-27T13:32:26.118737Z"
    }
   },
   "outputs": [],
   "source": [
    "import numpy as np\n",
    "import matplotlib.pyplot as plt\n",
    "import matplotlib\n",
    "from matplotlib.animation import FuncAnimation, FFMpegWriter\n",
    "from itertools import product\n",
    "from IPython.display import HTML\n",
    "\n",
    "plt.rcParams['animation.ffmpeg_path'] = 'C:/ffmpeg/bin/ffmpeg'"
   ]
  },
  {
   "cell_type": "code",
   "execution_count": 2,
   "id": "47d52a4f8f9eba01",
   "metadata": {
    "ExecuteTime": {
     "end_time": "2025-03-27T13:32:26.143145Z",
     "start_time": "2025-03-27T13:32:26.140204Z"
    }
   },
   "outputs": [],
   "source": [
    "N=200\n",
    "mass=1\n",
    "radius=0.1\n",
    "L=20\n",
    "v_0=3\n",
    "duration=10\n",
    "dt=0.008\n",
    "steps=int(duration/dt)"
   ]
  },
  {
   "cell_type": "code",
   "execution_count": 3,
   "id": "814e5d6473b4b92d",
   "metadata": {
    "ExecuteTime": {
     "end_time": "2025-03-27T13:32:26.152488Z",
     "start_time": "2025-03-27T13:32:26.146940Z"
    }
   },
   "outputs": [],
   "source": [
    "def collisions(position, velocity, radius, L, dt, N):\n",
    "    r_next = position + radius * dt\n",
    "\n",
    "    velocity[r_next[:, 0] < radius, 0] *= -1\n",
    "    velocity[r_next[:, 0] > L - radius, 0] *= -1\n",
    "    velocity[r_next[:, 1] < radius, 1] *= -1\n",
    "    velocity[r_next[:, 1] > L - radius, 1] *= -1\n",
    "\n",
    "    for i in range(N):\n",
    "        for j in range(i + 1, N):\n",
    "            if np.linalg.norm(r_next[i] - r_next[j]) < 2 * radius:\n",
    "                delta_velocity = velocity[i] - velocity[j]\n",
    "                delta_r = position[i] - position[j]\n",
    "\n",
    "                velocity[i] -= delta_r.dot(delta_velocity) / (delta_r.dot(delta_r)) * delta_r\n",
    "                velocity[j] += delta_r.dot(delta_velocity) / (delta_r.dot(delta_r)) * delta_r\n",
    "\n",
    "def step(position, velocity, radius, L, dt, N):\n",
    "    collisions(position, velocity, radius, L, dt, N)\n",
    "    position += velocity * dt\n",
    "    #Redondance\n",
    "\n",
    "def simulation(position, velocity, radius, L, dt, N, steps):\n",
    "    positions = np.zeros((steps, N, 2))\n",
    "    velocities = np.zeros((steps, N))\n",
    "\n",
    "    for n in range(steps):\n",
    "        step(position, velocity, radius, L, dt, N)\n",
    "        positions[n, :, :] = position\n",
    "        velocities[n, :] = np.linalg.norm(velocity, axis=1)\n",
    "\n",
    "    return positions, velocities\n",
    "\n",
    "def update(frame):\n",
    "    ax1.clear()\n",
    "    for i in range(N):\n",
    "        x, y = positions[frame,i, 0], positions[frame, i, 1]\n",
    "        circle = plt.Circle((x, y), radius, fill=True)\n",
    "        ax1.add_artist(circle)\n",
    "\n",
    "    ax1.set_xlabel('$x$', fontsize=15)\n",
    "    ax1.set_ylabel('$y$', fontsize=15)\n",
    "    ax1.set_title('Ideal gas animation', fontsize=15)\n",
    "    ax1.set_xlim(0, L)\n",
    "    ax1.set_ylim(0, L)\n",
    "    ax1.set_aspect('equal')\n",
    "    ax1.set_xticks([]) #remove ticks\n",
    "    ax1.set_yticks([])\n",
    "    plt.tight_layout()"
   ]
  },
  {
   "cell_type": "code",
   "execution_count": 4,
   "id": "f088333b623e4612",
   "metadata": {
    "ExecuteTime": {
     "end_time": "2025-03-27T13:32:27.383396Z",
     "start_time": "2025-03-27T13:32:26.162295Z"
    }
   },
   "outputs": [],
   "source": [
    "grid=int(np.ceil(np.sqrt(N)))\n",
    "space=L/grid\n",
    "x=np.linspace(radius+space/2, L-radius - space/2, grid)\n",
    "pos=list(product(x, x))\n",
    "\n",
    "position=np.array(pos[:N])\n",
    "\n",
    "theta=np.random.uniform(0, 2*np.pi, size=N)\n",
    "v_x,v_y=v_0*np.cos(theta), v_0*np.sin(theta)\n",
    "velocity=np.stack((v_x,v_y), axis=1)\n",
    "\n",
    "positions, velocities = simulation(position, velocity, radius, L, dt, N, steps)"
   ]
  },
  {
   "cell_type": "code",
   "execution_count": null,
   "id": "dd7f79bea218d6be",
   "metadata": {
    "ExecuteTime": {
     "end_time": "2025-03-27T13:32:46.800358Z",
     "start_time": "2025-03-27T13:32:27.396224Z"
    }
   },
   "outputs": [],
   "source": [
    "fig,ax1= plt.subplots(1, figsize = (12,6))\n",
    "\n",
    "interval = duration*1e3/steps\n",
    "animation = FuncAnimation(fig, update, frames=steps, interval=interval)\n",
    "HTML(animation.to_html5_video())"
   ]
  },
  {
   "cell_type": "code",
   "execution_count": null,
   "id": "cdb46ac1-05d8-4d15-986f-82eaa55dd1f7",
   "metadata": {},
   "outputs": [],
   "source": []
  }
 ],
 "metadata": {
  "kernelspec": {
   "display_name": "Python 3 (ipykernel)",
   "language": "python",
   "name": "python3"
  },
  "language_info": {
   "codemirror_mode": {
    "name": "ipython",
    "version": 3
   },
   "file_extension": ".py",
   "mimetype": "text/x-python",
   "name": "python",
   "nbconvert_exporter": "python",
   "pygments_lexer": "ipython3",
   "version": "3.13.0"
  }
 },
 "nbformat": 4,
 "nbformat_minor": 5
}
